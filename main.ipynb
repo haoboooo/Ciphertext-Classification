{
 "cells": [
  {
   "cell_type": "markdown",
   "metadata": {},
   "source": [
    "### Read training, dev and unlabeled test data"
   ]
  },
  {
   "cell_type": "markdown",
   "metadata": {},
   "source": [
    "The following provides a starting code (Python 3) of how to read the labeled training and dev cipher text, and unlabeled test cipher text, into lists."
   ]
  },
  {
   "cell_type": "code",
   "execution_count": 1,
   "metadata": {},
   "outputs": [],
   "source": [
    "train, dev, test = [], [], []"
   ]
  },
  {
   "cell_type": "code",
   "execution_count": 2,
   "metadata": {},
   "outputs": [
    {
     "name": "stdout",
     "output_type": "stream",
     "text": [
      "16220\n",
      "[[0, 'lkêcê yoúc cêêö y#êjl lw mówám Újám j Úêê# ütlk Úol lkêú z#ê ctöé8ú ówl xoóóú éê#xw#öê#c .'], [0, '6êcétlê jolêot8 zc éê#xw#öjóáê , tl zc j #jlkê# 8tcl8êcc jöÚ8ê 6wüó lkê öt668ê wx lkê #wj6 , ükê#ê lkê lkêöjltá t#wótêc j#ê lww wÚ2twoc jó6 lkê cê+oj8 éw8tltác lww cöoy .'], [0, 'tx lktc kw8t6jú öw2tê tc coééwcê6 lw Úê j ytxl , cwöêÚw6ú oóü#jééê6 tl êj#8ú , lwwm wol j88 lkê yww6 cloxx , jó6 8êxl Úêktó6 lkê á#jé ( 8tlê#j88ú ) .']]\n"
     ]
    }
   ],
   "source": [
    "for x in open('./train_enc.tsv', encoding='utf-8'):\n",
    "    x = x.rstrip('\\n\\r').split('\\t')\n",
    "    # x[0] will be the label (0 or 1), and x[1] will be the ciphertext sentence.\n",
    "    x[0] = int(x[0]) \n",
    "    train.append(x)\n",
    "print (len(train))\n",
    "print (train[:3])"
   ]
  },
  {
   "cell_type": "code",
   "execution_count": 3,
   "metadata": {},
   "outputs": [
    {
     "name": "stdout",
     "output_type": "stream",
     "text": [
      "2027\n",
      "[[1, 'ów8jó Ú#j2ê8ú l#êj6c ükê#ê xêü jöê#tájó xt8öc 6j#ê lw 6ê82ê 77 tólw lkê üw#86 wx jöÚt2j8êóáê jó6 jöÚtyotlú <<<'], [0, 'ê2êó öo#ékú zc ê+éê#l áwötá ltötóy jó6 xjöê6 ákj#tcöj áj ózl #êcáoê lktc êxxw#l .'], [1, 'üt88 jcco#ê68ú #jóm jc wóê wx lkê á8ê2ê#êcl , öwcl 6êáêélt2ê8ú jöoctóy áwöê6têc wx lkê úêj# .']]\n"
     ]
    }
   ],
   "source": [
    "for x in open('./dev_enc.tsv', encoding='utf-8'):\n",
    "    x = x.rstrip('\\n\\r').split('\\t')\n",
    "    # x[0] will be the label (0 or 1), and x[1] will be the ciphertext sentence.\n",
    "    x[0] = int(x[0]) \n",
    "    dev.append(x)\n",
    "print (len(dev))\n",
    "print (dev[:3])"
   ]
  },
  {
   "cell_type": "markdown",
   "metadata": {},
   "source": [
    "#### Different from 'train' and 'dev' that are both list of tuples, 'test' will be just a list."
   ]
  },
  {
   "cell_type": "code",
   "execution_count": 4,
   "metadata": {},
   "outputs": [
    {
     "name": "stdout",
     "output_type": "stream",
     "text": [
      "2028\n",
      "['j 6t6jáltá jó6 6o88 6wáoöêólj#ú y8w#txútóy cwxlüj#ê jój#ákú .', 'ówlktóy cltámc , #êj88ú , ê+áêél j 8tóyê#tóy á#êêétóêcc wóê xêê8c x#wö Úêtóy 6#jyyê6 lk#woyk j cj6 , cw#6t6 oót2ê#cê wx yoóc , 6#oyc , j2j#táê jó6 6jöjyê6 6#êjöc .', 'öo#ékú jó6 üt8cwó jáloj88ú öjmê j é#êllú yww6 lêjö <<< Úol lkê é#wvêál co##woó6tóy lkêö tc 6tcl#êcctóy8ú #wlê .']\n"
     ]
    }
   ],
   "source": [
    "for x in open('./test_enc_unlabeled.tsv', encoding='utf-8'):\n",
    "    x = x.rstrip('\\n\\r')\n",
    "    test.append(x)\n",
    "print (len(test))\n",
    "print (test[:3])"
   ]
  },
  {
   "cell_type": "markdown",
   "metadata": {},
   "source": [
    "#### You can split every sentence into lists of words by white spaces."
   ]
  },
  {
   "cell_type": "code",
   "execution_count": 5,
   "metadata": {},
   "outputs": [],
   "source": [
    "train_split = [[x[0], x[1].split(' ')] for x in train]\n",
    "dev_split = [[x[0], x[1].split(' ')] for x in dev]\n",
    "test_split = [[x.split(' ')] for x in test]"
   ]
  },
  {
   "cell_type": "code",
   "execution_count": 6,
   "metadata": {},
   "outputs": [
    {
     "name": "stdout",
     "output_type": "stream",
     "text": [
      "[0, ['lkêcê', 'yoúc', 'cêêö', 'y#êjl', 'lw', 'mówám', 'Újám', 'j', 'Úêê#', 'ütlk', 'Úol', 'lkêú', 'z#ê', 'ctöé8ú', 'ówl', 'xoóóú', 'éê#xw#öê#c', '.']]\n",
      "[1, ['ów8jó', 'Ú#j2ê8ú', 'l#êj6c', 'ükê#ê', 'xêü', 'jöê#tájó', 'xt8öc', '6j#ê', 'lw', '6ê82ê', '77', 'tólw', 'lkê', 'üw#86', 'wx', 'jöÚt2j8êóáê', 'jó6', 'jöÚtyotlú', '<<<']]\n",
      "[['j', '6t6jáltá', 'jó6', '6o88', '6wáoöêólj#ú', 'y8w#txútóy', 'cwxlüj#ê', 'jój#ákú', '.']]\n"
     ]
    }
   ],
   "source": [
    "print(train_split[0])\n",
    "print(dev_split[0])\n",
    "print(test_split[0])"
   ]
  },
  {
   "cell_type": "markdown",
   "metadata": {},
   "source": [
    "### Main Code Body"
   ]
  },
  {
   "cell_type": "markdown",
   "metadata": {},
   "source": [
    "You may choose to experiment with different methods using your program. However, you need to embed the training and inference processes at here. We will use your prediction on the unlabeled test data to grade, while checking this part to understand how your method has produced the predictions."
   ]
  },
  {
   "cell_type": "code",
   "execution_count": 8,
   "metadata": {},
   "outputs": [
    {
     "name": "stderr",
     "output_type": "stream",
     "text": [
      "E:\\anaconda3\\lib\\site-packages\\numpy\\_distributor_init.py:30: UserWarning: loaded more than 1 DLL from .libs:\n",
      "E:\\anaconda3\\lib\\site-packages\\numpy\\.libs\\libopenblas.PYQHXLVVQ7VESDPUVUADXEVJOBGHJPAY.gfortran-win_amd64.dll\n",
      "E:\\anaconda3\\lib\\site-packages\\numpy\\.libs\\libopenblas.QVLO2T66WEPI7JZ63PS3HMOHFEY472BC.gfortran-win_amd64.dll\n",
      "  warnings.warn(\"loaded more than 1 DLL from .libs:\\n%s\" %\n"
     ]
    }
   ],
   "source": [
    "import numpy as np\n",
    "from sklearn import svm\n",
    "from sklearn.feature_extraction.text import TfidfVectorizer"
   ]
  },
  {
   "cell_type": "code",
   "execution_count": 9,
   "metadata": {},
   "outputs": [
    {
     "name": "stdout",
     "output_type": "stream",
     "text": [
      "['lkêcê yoúc cêêö y#êjl lw mówám Újám j Úêê# ütlk Úol lkêú z#ê ctöé8ú ówl xoóóú éê#xw#öê#c .', '6êcétlê jolêot8 zc éê#xw#öjóáê , tl zc j #jlkê# 8tcl8êcc jöÚ8ê 6wüó lkê öt668ê wx lkê #wj6 , ükê#ê lkê lkêöjltá t#wótêc j#ê lww wÚ2twoc jó6 lkê cê+oj8 éw8tltác lww cöoy .']\n",
      "['ów8jó Ú#j2ê8ú l#êj6c ükê#ê xêü jöê#tájó xt8öc 6j#ê lw 6ê82ê 77 tólw lkê üw#86 wx jöÚt2j8êóáê jó6 jöÚtyotlú <<<', 'ê2êó öo#ékú zc ê+éê#l áwötá ltötóy jó6 xjöê6 ákj#tcöj áj ózl #êcáoê lktc êxxw#l .']\n",
      "['j 6t6jáltá jó6 6o88 6wáoöêólj#ú y8w#txútóy cwxlüj#ê jój#ákú .', 'ówlktóy cltámc , #êj88ú , ê+áêél j 8tóyê#tóy á#êêétóêcc wóê xêê8c x#wö Úêtóy 6#jyyê6 lk#woyk j cj6 , cw#6t6 oót2ê#cê wx yoóc , 6#oyc , j2j#táê jó6 6jöjyê6 6#êjöc .']\n"
     ]
    }
   ],
   "source": [
    "x_train = [\" \".join(data[1]) for data in train_split]\n",
    "print(x_train[:2])\n",
    "x_test = [\" \".join(data[1]) for data in dev_split]\n",
    "print(x_test[:2])\n",
    "test_data = [\" \".join(data[0]) for data in test_split]\n",
    "print(test_data[:2])"
   ]
  },
  {
   "cell_type": "code",
   "execution_count": 10,
   "metadata": {
    "scrolled": true
   },
   "outputs": [
    {
     "name": "stdout",
     "output_type": "stream",
     "text": [
      "[0, 0, 0]\n",
      "16220 16220\n",
      "2027 2027\n"
     ]
    }
   ],
   "source": [
    "y_train = [data[0] for data in train_split]\n",
    "print(y_train[:3])\n",
    "print(len(x_train),len(y_train))\n",
    "y_test = [data[0] for data in dev_split]\n",
    "print(len(x_test),len(y_test))"
   ]
  },
  {
   "cell_type": "code",
   "execution_count": 11,
   "metadata": {},
   "outputs": [],
   "source": [
    "tf_vectorizer=TfidfVectorizer(sublinear_tf=True,min_df=4,max_df=0.3,ngram_range=(1,3))\n",
    "x_train_tfidf=tf_vectorizer.fit_transform(x_train)\n",
    "x_test_tfidf=tf_vectorizer.transform(x_test)"
   ]
  },
  {
   "cell_type": "markdown",
   "metadata": {},
   "source": [
    "### TF-IDF+SVM"
   ]
  },
  {
   "cell_type": "code",
   "execution_count": 12,
   "metadata": {},
   "outputs": [
    {
     "data": {
      "text/plain": [
       "LinearSVC()"
      ]
     },
     "execution_count": 12,
     "metadata": {},
     "output_type": "execute_result"
    }
   ],
   "source": [
    "# clf = svm.LinearSVC(C=1.0, class_weight=None, dual=True, fit_intercept=True,\n",
    "#      intercept_scaling=1, loss='squared_hinge', max_iter=1000,\n",
    "#      multi_class='ovr', penalty='l2', random_state=None, tol=0.0001,\n",
    "#      verbose=0)\n",
    "# clf.fit(x_train_tfidf, y_train)"
   ]
  },
  {
   "cell_type": "code",
   "execution_count": 13,
   "metadata": {},
   "outputs": [
    {
     "data": {
      "text/plain": [
       "0.8914652195362605"
      ]
     },
     "execution_count": 13,
     "metadata": {},
     "output_type": "execute_result"
    }
   ],
   "source": [
    "# clf.score(x_test_tfidf,y_test)"
   ]
  },
  {
   "cell_type": "code",
   "execution_count": 14,
   "metadata": {},
   "outputs": [],
   "source": [
    "# from sklearn.model_selection import RandomizedSearchCV,GridSearchCV\n",
    "\n",
    "# clf = svm.LinearSVC()\n",
    "# dual = [True,False]\n",
    "# loss = ['squared_hinge','hinge']\n",
    "# penalty = ['l2']  #he ‘newton-cg’, ‘sag’ and ‘lbfgs’ solvers support only l2 penalties\n",
    "# c_values = [ 10, 1.0, 0.1, 0.01] \n",
    "# # define grid search\n",
    "# grid = dict(dual=dual,loss = loss,penalty=penalty,C=c_values)\n",
    "# grid_search = GridSearchCV(estimator=clf, param_grid=grid, n_jobs=-1, cv=5, scoring='accuracy',error_score=0)\n",
    "# grid_result = grid_search.fit(x_train_tfidf, y_train)"
   ]
  },
  {
   "cell_type": "code",
   "execution_count": 15,
   "metadata": {},
   "outputs": [
    {
     "name": "stdout",
     "output_type": "stream",
     "text": [
      "Grid_accuracy: 0.862762 using {'C': 1.0, 'dual': True, 'loss': 'squared_hinge', 'penalty': 'l2'}\n"
     ]
    }
   ],
   "source": [
    "# summarize results\n",
    "# print(\"Grid_accuracy: %f using %s\" % (grid_result.best_score_, grid_result.best_params_))"
   ]
  },
  {
   "cell_type": "code",
   "execution_count": 16,
   "metadata": {},
   "outputs": [
    {
     "data": {
      "text/plain": [
       "LinearSVC()"
      ]
     },
     "execution_count": 16,
     "metadata": {},
     "output_type": "execute_result"
    }
   ],
   "source": [
    "# finding best estimator..#\n",
    "# grid_result.best_estimator_"
   ]
  },
  {
   "cell_type": "code",
   "execution_count": 17,
   "metadata": {},
   "outputs": [
    {
     "data": {
      "text/plain": [
       "0.8914652195362605"
      ]
     },
     "execution_count": 17,
     "metadata": {},
     "output_type": "execute_result"
    }
   ],
   "source": [
    "# clf = svm.LinearSVC(C=1.0, class_weight=None, dual=True, fit_intercept=True,\n",
    "#      intercept_scaling=1, loss='squared_hinge', max_iter=1000,\n",
    "#      multi_class='ovr', penalty='l2', random_state=None, tol=0.0001,\n",
    "#      verbose=0)\n",
    "# clf.fit(x_train_tfidf, y_train)\n",
    "# clf.score(x_test_tfidf,y_test)"
   ]
  },
  {
   "cell_type": "markdown",
   "metadata": {},
   "source": [
    "### TF-IDF+Logistic Regression(best accuracy)"
   ]
  },
  {
   "cell_type": "code",
   "execution_count": 18,
   "metadata": {},
   "outputs": [],
   "source": [
    "from sklearn.linear_model import LogisticRegression\n",
    "lr=LogisticRegression(C=1.0, class_weight=None, dual=False, fit_intercept=True,\n",
    "                   intercept_scaling=1, l1_ratio=None, max_iter=100,\n",
    "                   multi_class='auto', n_jobs=None, penalty='l2',\n",
    "                   random_state=None, solver='lbfgs', tol=0.0001, verbose=0,\n",
    "                   warm_start=False)"
   ]
  },
  {
   "cell_type": "code",
   "execution_count": 19,
   "metadata": {},
   "outputs": [],
   "source": [
    "tf_vectorizer=TfidfVectorizer(sublinear_tf=True,min_df=4,max_df=0.3,ngram_range=(1,3))\n",
    "x_train_tfidf=tf_vectorizer.fit_transform(x_train)\n",
    "x_test_tfidf=tf_vectorizer.transform(x_test)\n",
    "test = tf_vectorizer.transform(test_data)"
   ]
  },
  {
   "cell_type": "code",
   "execution_count": 20,
   "metadata": {},
   "outputs": [
    {
     "data": {
      "text/plain": [
       "LogisticRegression()"
      ]
     },
     "execution_count": 20,
     "metadata": {},
     "output_type": "execute_result"
    }
   ],
   "source": [
    "lr.fit(x_train_tfidf,y_train)"
   ]
  },
  {
   "cell_type": "code",
   "execution_count": 21,
   "metadata": {
    "scrolled": true
   },
   "outputs": [
    {
     "data": {
      "text/plain": [
       "0.8554514060187469"
      ]
     },
     "execution_count": 21,
     "metadata": {},
     "output_type": "execute_result"
    }
   ],
   "source": [
    "lr.fit(x_train_tfidf,y_train)\n",
    "lr.score(x_test_tfidf,y_test)"
   ]
  },
  {
   "cell_type": "code",
   "execution_count": 22,
   "metadata": {},
   "outputs": [],
   "source": [
    "from sklearn.model_selection import RandomizedSearchCV,GridSearchCV\n",
    "\n",
    "lr = LogisticRegression()\n",
    "solvers = ['newton-cg', 'lbfgs', 'sag'] \n",
    "penalty = ['l2']  #he ‘newton-cg’, ‘sag’ and ‘lbfgs’ solvers support only l2 penalties\n",
    "c_values = [ 10, 1.0, 0.1, 0.01] \n",
    "# define grid search\n",
    "grid = dict(solver=solvers,penalty=penalty,C=c_values)\n",
    "grid_search = GridSearchCV(estimator=lr, param_grid=grid, n_jobs=-1, cv=5, scoring='accuracy',error_score=0)\n",
    "grid_result = grid_search.fit(x_train_tfidf, y_train)"
   ]
  },
  {
   "cell_type": "code",
   "execution_count": 23,
   "metadata": {},
   "outputs": [
    {
     "name": "stdout",
     "output_type": "stream",
     "text": [
      "Grid_accuracy: 0.863502 using {'C': 10, 'penalty': 'l2', 'solver': 'lbfgs'}\n"
     ]
    }
   ],
   "source": [
    "# summarize results\n",
    "print(\"Grid_accuracy: %f using %s\" % (grid_result.best_score_, grid_result.best_params_))"
   ]
  },
  {
   "cell_type": "code",
   "execution_count": 24,
   "metadata": {},
   "outputs": [
    {
     "data": {
      "text/plain": [
       "LogisticRegression(C=10)"
      ]
     },
     "execution_count": 24,
     "metadata": {},
     "output_type": "execute_result"
    }
   ],
   "source": [
    "# finding best estimator..#\n",
    "grid_result.best_estimator_"
   ]
  },
  {
   "cell_type": "code",
   "execution_count": 25,
   "metadata": {},
   "outputs": [
    {
     "data": {
      "text/plain": [
       "LogisticRegression(C=10.0)"
      ]
     },
     "execution_count": 25,
     "metadata": {},
     "output_type": "execute_result"
    }
   ],
   "source": [
    "l_r=LogisticRegression(C=10.0, class_weight=None, dual=False, fit_intercept=True,\n",
    "                   intercept_scaling=1, l1_ratio=None, max_iter=100,\n",
    "                   multi_class='auto', n_jobs=None, penalty='l2',\n",
    "                   random_state=None, solver='lbfgs', tol=0.0001, verbose=0,\n",
    "                   warm_start=False)\n",
    "l_r.fit(x_train_tfidf, y_train)"
   ]
  },
  {
   "cell_type": "code",
   "execution_count": 26,
   "metadata": {},
   "outputs": [
    {
     "data": {
      "text/plain": [
       "0.8924518993586581"
      ]
     },
     "execution_count": 26,
     "metadata": {},
     "output_type": "execute_result"
    }
   ],
   "source": [
    "l_r.score(x_test_tfidf,y_test)"
   ]
  },
  {
   "cell_type": "code",
   "execution_count": 27,
   "metadata": {},
   "outputs": [
    {
     "name": "stdout",
     "output_type": "stream",
     "text": [
      "2028\n"
     ]
    }
   ],
   "source": [
    "results = l_r.predict(test)\n",
    "print(len(results))"
   ]
  },
  {
   "cell_type": "markdown",
   "metadata": {},
   "source": [
    "### TF-IDF+Naive Bayes"
   ]
  },
  {
   "cell_type": "code",
   "execution_count": 28,
   "metadata": {},
   "outputs": [],
   "source": [
    "# from sklearn.naive_bayes import MultinomialNB\n",
    "# nb=MultinomialNB(alpha=1.0,fit_prior=True)"
   ]
  },
  {
   "cell_type": "code",
   "execution_count": 29,
   "metadata": {},
   "outputs": [
    {
     "data": {
      "text/plain": [
       "0.8500246669955599"
      ]
     },
     "execution_count": 29,
     "metadata": {},
     "output_type": "execute_result"
    }
   ],
   "source": [
    "# model=nb.fit(x_train_tfidf, y_train)\n",
    "# model.score(x_test_tfidf,y_test)"
   ]
  },
  {
   "cell_type": "code",
   "execution_count": 30,
   "metadata": {},
   "outputs": [],
   "source": [
    "# from sklearn.model_selection import RandomizedSearchCV,GridSearchCV\n",
    "\n",
    "# nb = MultinomialNB()\n",
    "# fit_prior = [True,False]\n",
    "# alpha = [ 10, 1.0, 0.1, 0.01] \n",
    "# # define grid search\n",
    "# grid = dict(fit_prior=fit_prior,alpha=alpha)\n",
    "# grid_search = GridSearchCV(estimator=nb, param_grid=grid, n_jobs=-1, cv=5, scoring='accuracy',error_score=0)\n",
    "# grid_result = grid_search.fit(x_train_tfidf, y_train)"
   ]
  },
  {
   "cell_type": "code",
   "execution_count": 31,
   "metadata": {
    "scrolled": true
   },
   "outputs": [
    {
     "name": "stdout",
     "output_type": "stream",
     "text": [
      "Grid_accuracy: 0.844020 using {'alpha': 0.1, 'fit_prior': True}\n"
     ]
    },
    {
     "data": {
      "text/plain": [
       "MultinomialNB(alpha=0.1)"
      ]
     },
     "execution_count": 31,
     "metadata": {},
     "output_type": "execute_result"
    }
   ],
   "source": [
    "# summarize results\n",
    "# print(\"Grid_accuracy: %f using %s\" % (grid_result.best_score_, grid_result.best_params_))\n",
    "# # finding best estimator..#\n",
    "# grid_result.best_estimator_"
   ]
  },
  {
   "cell_type": "code",
   "execution_count": 32,
   "metadata": {},
   "outputs": [
    {
     "data": {
      "text/plain": [
       "0.8608781450419339"
      ]
     },
     "execution_count": 32,
     "metadata": {},
     "output_type": "execute_result"
    }
   ],
   "source": [
    "# nb=MultinomialNB(alpha=0.1,fit_prior=True)\n",
    "# model=nb.fit(x_train_tfidf, y_train)\n",
    "# model.score(x_test_tfidf,y_test)"
   ]
  },
  {
   "cell_type": "markdown",
   "metadata": {},
   "source": [
    "### TF-IDF+Random Forest"
   ]
  },
  {
   "cell_type": "code",
   "execution_count": 98,
   "metadata": {},
   "outputs": [],
   "source": [
    "# from sklearn.ensemble import RandomForestClassifier\n",
    "# rf= RandomForestClassifier(n_estimators=1000,criterion='gini',n_jobs=-1)"
   ]
  },
  {
   "cell_type": "code",
   "execution_count": 65,
   "metadata": {},
   "outputs": [
    {
     "data": {
      "text/plain": [
       "0.8663048840651209"
      ]
     },
     "execution_count": 65,
     "metadata": {},
     "output_type": "execute_result"
    }
   ],
   "source": [
    "# model2=rf.fit(x_train_tfidf, y_train)\n",
    "# model2.score(x_test_tfidf,y_test)"
   ]
  },
  {
   "cell_type": "code",
   "execution_count": 66,
   "metadata": {},
   "outputs": [],
   "source": [
    "# from sklearn.model_selection import RandomizedSearchCV,GridSearchCV\n",
    "\n",
    "# rf = RandomForestClassifier()\n",
    "# n_estimators=[200,500,800,1000,1500]\n",
    "# criterion=['gini','entropy']\n",
    "# # define grid search\n",
    "# grid = dict(n_estimators=n_estimators,criterion=criterion)\n",
    "# grid_search = GridSearchCV(estimator=rf, param_grid=grid, n_jobs=-1, cv=5, scoring='accuracy',error_score=0)\n",
    "# grid_result = grid_search.fit(x_train_tfidf, y_train)"
   ]
  },
  {
   "cell_type": "code",
   "execution_count": 67,
   "metadata": {},
   "outputs": [
    {
     "name": "stdout",
     "output_type": "stream",
     "text": [
      "Grid_accuracy: 0.838594 using {'criterion': 'entropy', 'n_estimators': 800}\n"
     ]
    },
    {
     "data": {
      "text/plain": [
       "RandomForestClassifier(criterion='entropy', n_estimators=800)"
      ]
     },
     "execution_count": 67,
     "metadata": {},
     "output_type": "execute_result"
    }
   ],
   "source": [
    "# summarize results\n",
    "# print(\"Grid_accuracy: %f using %s\" % (grid_result.best_score_, grid_result.best_params_))\n",
    "# # finding best estimator..#\n",
    "# grid_result.best_estimator_"
   ]
  },
  {
   "cell_type": "code",
   "execution_count": 99,
   "metadata": {},
   "outputs": [
    {
     "data": {
      "text/plain": [
       "0.8598914652195363"
      ]
     },
     "execution_count": 99,
     "metadata": {},
     "output_type": "execute_result"
    }
   ],
   "source": [
    "# rf= RandomForestClassifier(n_estimators=800,criterion='entropy',n_jobs=-1)\n",
    "# model2=rf.fit(x_train_tfidf, y_train)\n",
    "# model2.score(x_test_tfidf,y_test)"
   ]
  },
  {
   "cell_type": "markdown",
   "metadata": {},
   "source": [
    "### TF-IDF+CatBoost"
   ]
  },
  {
   "cell_type": "code",
   "execution_count": 100,
   "metadata": {},
   "outputs": [
    {
     "name": "stdout",
     "output_type": "stream",
     "text": [
      "0:\tlearn: 0.6843684\ttotal: 354ms\tremaining: 52.8s\n",
      "1:\tlearn: 0.6760235\ttotal: 673ms\tremaining: 49.8s\n",
      "2:\tlearn: 0.6705911\ttotal: 997ms\tremaining: 48.8s\n",
      "3:\tlearn: 0.6660639\ttotal: 1.31s\tremaining: 47.9s\n",
      "4:\tlearn: 0.6621720\ttotal: 1.64s\tremaining: 47.6s\n",
      "5:\tlearn: 0.6583535\ttotal: 1.96s\tremaining: 47.1s\n",
      "6:\tlearn: 0.6553478\ttotal: 2.29s\tremaining: 46.7s\n",
      "7:\tlearn: 0.6515497\ttotal: 2.61s\tremaining: 46.3s\n",
      "8:\tlearn: 0.6483372\ttotal: 2.94s\tremaining: 46s\n",
      "9:\tlearn: 0.6448861\ttotal: 3.26s\tremaining: 45.6s\n",
      "10:\tlearn: 0.6423550\ttotal: 3.58s\tremaining: 45.2s\n",
      "11:\tlearn: 0.6389417\ttotal: 3.9s\tremaining: 44.8s\n",
      "12:\tlearn: 0.6364073\ttotal: 4.22s\tremaining: 44.5s\n",
      "13:\tlearn: 0.6334224\ttotal: 4.54s\tremaining: 44.1s\n",
      "14:\tlearn: 0.6304999\ttotal: 4.85s\tremaining: 43.7s\n",
      "15:\tlearn: 0.6281039\ttotal: 5.17s\tremaining: 43.3s\n",
      "16:\tlearn: 0.6259048\ttotal: 5.5s\tremaining: 43s\n",
      "17:\tlearn: 0.6239057\ttotal: 5.82s\tremaining: 42.7s\n",
      "18:\tlearn: 0.6215853\ttotal: 6.14s\tremaining: 42.3s\n",
      "19:\tlearn: 0.6193127\ttotal: 6.46s\tremaining: 42s\n",
      "20:\tlearn: 0.6175854\ttotal: 6.79s\tremaining: 41.7s\n",
      "21:\tlearn: 0.6153688\ttotal: 7.11s\tremaining: 41.3s\n",
      "22:\tlearn: 0.6132607\ttotal: 7.42s\tremaining: 41s\n",
      "23:\tlearn: 0.6114772\ttotal: 7.74s\tremaining: 40.6s\n",
      "24:\tlearn: 0.6092025\ttotal: 8.07s\tremaining: 40.3s\n",
      "25:\tlearn: 0.6077350\ttotal: 8.39s\tremaining: 40s\n",
      "26:\tlearn: 0.6061959\ttotal: 8.72s\tremaining: 39.7s\n",
      "27:\tlearn: 0.6048414\ttotal: 9.13s\tremaining: 39.8s\n",
      "28:\tlearn: 0.6030461\ttotal: 9.45s\tremaining: 39.4s\n",
      "29:\tlearn: 0.6011671\ttotal: 9.77s\tremaining: 39.1s\n",
      "30:\tlearn: 0.5993429\ttotal: 10.1s\tremaining: 38.7s\n",
      "31:\tlearn: 0.5976068\ttotal: 10.4s\tremaining: 38.4s\n",
      "32:\tlearn: 0.5963963\ttotal: 10.7s\tremaining: 38s\n",
      "33:\tlearn: 0.5948875\ttotal: 11.1s\tremaining: 37.7s\n",
      "34:\tlearn: 0.5930338\ttotal: 11.4s\tremaining: 37.5s\n",
      "35:\tlearn: 0.5915614\ttotal: 11.8s\tremaining: 37.3s\n",
      "36:\tlearn: 0.5895293\ttotal: 12.1s\tremaining: 36.9s\n",
      "37:\tlearn: 0.5878203\ttotal: 12.4s\tremaining: 36.6s\n",
      "38:\tlearn: 0.5862577\ttotal: 12.7s\tremaining: 36.3s\n",
      "39:\tlearn: 0.5844081\ttotal: 13.1s\tremaining: 35.9s\n",
      "40:\tlearn: 0.5830429\ttotal: 13.4s\tremaining: 35.6s\n",
      "41:\tlearn: 0.5815277\ttotal: 13.7s\tremaining: 35.3s\n",
      "42:\tlearn: 0.5801198\ttotal: 14.1s\tremaining: 35.1s\n",
      "43:\tlearn: 0.5788955\ttotal: 14.4s\tremaining: 34.7s\n",
      "44:\tlearn: 0.5770704\ttotal: 14.7s\tremaining: 34.4s\n",
      "45:\tlearn: 0.5753022\ttotal: 15.1s\tremaining: 34.1s\n",
      "46:\tlearn: 0.5737565\ttotal: 15.4s\tremaining: 33.7s\n",
      "47:\tlearn: 0.5724288\ttotal: 15.7s\tremaining: 33.4s\n",
      "48:\tlearn: 0.5709203\ttotal: 16.1s\tremaining: 33.1s\n",
      "49:\tlearn: 0.5693356\ttotal: 16.5s\tremaining: 33s\n",
      "50:\tlearn: 0.5675053\ttotal: 16.8s\tremaining: 32.7s\n",
      "51:\tlearn: 0.5659365\ttotal: 17.2s\tremaining: 32.5s\n",
      "52:\tlearn: 0.5643447\ttotal: 17.6s\tremaining: 32.1s\n",
      "53:\tlearn: 0.5625116\ttotal: 17.9s\tremaining: 31.8s\n",
      "54:\tlearn: 0.5609315\ttotal: 18.2s\tremaining: 31.5s\n",
      "55:\tlearn: 0.5592554\ttotal: 18.6s\tremaining: 31.2s\n",
      "56:\tlearn: 0.5575657\ttotal: 18.9s\tremaining: 30.9s\n",
      "57:\tlearn: 0.5561708\ttotal: 19.3s\tremaining: 30.6s\n",
      "58:\tlearn: 0.5544832\ttotal: 19.6s\tremaining: 30.2s\n",
      "59:\tlearn: 0.5526908\ttotal: 19.9s\tremaining: 29.9s\n",
      "60:\tlearn: 0.5513248\ttotal: 20.2s\tremaining: 29.5s\n",
      "61:\tlearn: 0.5493841\ttotal: 20.6s\tremaining: 29.2s\n",
      "62:\tlearn: 0.5475362\ttotal: 20.9s\tremaining: 28.8s\n",
      "63:\tlearn: 0.5456086\ttotal: 21.2s\tremaining: 28.5s\n",
      "64:\tlearn: 0.5440813\ttotal: 21.5s\tremaining: 28.2s\n",
      "65:\tlearn: 0.5424362\ttotal: 21.9s\tremaining: 27.8s\n",
      "66:\tlearn: 0.5407424\ttotal: 22.2s\tremaining: 27.5s\n",
      "67:\tlearn: 0.5392504\ttotal: 22.5s\tremaining: 27.1s\n",
      "68:\tlearn: 0.5378519\ttotal: 22.8s\tremaining: 26.8s\n",
      "69:\tlearn: 0.5363356\ttotal: 23.1s\tremaining: 26.4s\n",
      "70:\tlearn: 0.5348495\ttotal: 23.5s\tremaining: 26.1s\n",
      "71:\tlearn: 0.5335515\ttotal: 23.8s\tremaining: 25.8s\n",
      "72:\tlearn: 0.5321110\ttotal: 24.2s\tremaining: 25.5s\n",
      "73:\tlearn: 0.5307325\ttotal: 24.5s\tremaining: 25.2s\n",
      "74:\tlearn: 0.5293283\ttotal: 24.8s\tremaining: 24.8s\n",
      "75:\tlearn: 0.5279639\ttotal: 25.1s\tremaining: 24.5s\n",
      "76:\tlearn: 0.5264660\ttotal: 25.5s\tremaining: 24.1s\n",
      "77:\tlearn: 0.5250179\ttotal: 25.8s\tremaining: 23.8s\n",
      "78:\tlearn: 0.5234325\ttotal: 26.1s\tremaining: 23.5s\n",
      "79:\tlearn: 0.5218879\ttotal: 26.4s\tremaining: 23.1s\n",
      "80:\tlearn: 0.5203680\ttotal: 26.7s\tremaining: 22.8s\n",
      "81:\tlearn: 0.5187552\ttotal: 27.1s\tremaining: 22.5s\n",
      "82:\tlearn: 0.5173932\ttotal: 27.5s\tremaining: 22.2s\n",
      "83:\tlearn: 0.5160382\ttotal: 27.8s\tremaining: 21.9s\n",
      "84:\tlearn: 0.5148743\ttotal: 28.1s\tremaining: 21.5s\n",
      "85:\tlearn: 0.5134626\ttotal: 28.5s\tremaining: 21.2s\n",
      "86:\tlearn: 0.5118173\ttotal: 28.8s\tremaining: 20.8s\n",
      "87:\tlearn: 0.5105511\ttotal: 29.1s\tremaining: 20.5s\n",
      "88:\tlearn: 0.5090176\ttotal: 29.4s\tremaining: 20.2s\n",
      "89:\tlearn: 0.5075574\ttotal: 29.7s\tremaining: 19.8s\n",
      "90:\tlearn: 0.5062786\ttotal: 30.1s\tremaining: 19.5s\n",
      "91:\tlearn: 0.5050783\ttotal: 30.4s\tremaining: 19.2s\n",
      "92:\tlearn: 0.5034824\ttotal: 30.8s\tremaining: 18.9s\n",
      "93:\tlearn: 0.5021108\ttotal: 31.1s\tremaining: 18.5s\n",
      "94:\tlearn: 0.5005381\ttotal: 31.4s\tremaining: 18.2s\n",
      "95:\tlearn: 0.4992525\ttotal: 31.7s\tremaining: 17.9s\n",
      "96:\tlearn: 0.4981641\ttotal: 32.1s\tremaining: 17.5s\n",
      "97:\tlearn: 0.4968704\ttotal: 32.4s\tremaining: 17.2s\n",
      "98:\tlearn: 0.4957791\ttotal: 32.7s\tremaining: 16.8s\n",
      "99:\tlearn: 0.4947158\ttotal: 33s\tremaining: 16.5s\n",
      "100:\tlearn: 0.4937010\ttotal: 33.3s\tremaining: 16.2s\n",
      "101:\tlearn: 0.4922785\ttotal: 33.7s\tremaining: 15.8s\n",
      "102:\tlearn: 0.4912464\ttotal: 34s\tremaining: 15.5s\n",
      "103:\tlearn: 0.4901559\ttotal: 34.3s\tremaining: 15.2s\n",
      "104:\tlearn: 0.4888962\ttotal: 34.6s\tremaining: 14.8s\n",
      "105:\tlearn: 0.4876966\ttotal: 34.9s\tremaining: 14.5s\n",
      "106:\tlearn: 0.4866835\ttotal: 35.3s\tremaining: 14.2s\n",
      "107:\tlearn: 0.4856144\ttotal: 35.6s\tremaining: 13.9s\n",
      "108:\tlearn: 0.4845965\ttotal: 36s\tremaining: 13.5s\n",
      "109:\tlearn: 0.4836043\ttotal: 36.3s\tremaining: 13.2s\n",
      "110:\tlearn: 0.4826030\ttotal: 36.6s\tremaining: 12.9s\n",
      "111:\tlearn: 0.4817785\ttotal: 36.9s\tremaining: 12.5s\n",
      "112:\tlearn: 0.4805574\ttotal: 37.2s\tremaining: 12.2s\n",
      "113:\tlearn: 0.4793675\ttotal: 37.6s\tremaining: 11.9s\n",
      "114:\tlearn: 0.4782432\ttotal: 37.9s\tremaining: 11.5s\n",
      "115:\tlearn: 0.4770737\ttotal: 38.3s\tremaining: 11.2s\n",
      "116:\tlearn: 0.4759612\ttotal: 38.7s\tremaining: 10.9s\n",
      "117:\tlearn: 0.4749533\ttotal: 39s\tremaining: 10.6s\n",
      "118:\tlearn: 0.4740089\ttotal: 39.4s\tremaining: 10.3s\n",
      "119:\tlearn: 0.4730208\ttotal: 39.7s\tremaining: 9.93s\n",
      "120:\tlearn: 0.4718137\ttotal: 40s\tremaining: 9.6s\n",
      "121:\tlearn: 0.4705799\ttotal: 40.4s\tremaining: 9.28s\n",
      "122:\tlearn: 0.4694349\ttotal: 40.8s\tremaining: 8.96s\n",
      "123:\tlearn: 0.4685728\ttotal: 41.2s\tremaining: 8.63s\n",
      "124:\tlearn: 0.4673453\ttotal: 41.6s\tremaining: 8.32s\n",
      "125:\tlearn: 0.4662534\ttotal: 41.9s\tremaining: 7.99s\n",
      "126:\tlearn: 0.4652157\ttotal: 42.4s\tremaining: 7.67s\n",
      "127:\tlearn: 0.4643222\ttotal: 42.7s\tremaining: 7.33s\n",
      "128:\tlearn: 0.4633488\ttotal: 43.1s\tremaining: 7.01s\n",
      "129:\tlearn: 0.4622601\ttotal: 43.4s\tremaining: 6.67s\n",
      "130:\tlearn: 0.4613032\ttotal: 43.7s\tremaining: 6.34s\n",
      "131:\tlearn: 0.4602261\ttotal: 44.1s\tremaining: 6.01s\n",
      "132:\tlearn: 0.4593442\ttotal: 44.5s\tremaining: 5.68s\n",
      "133:\tlearn: 0.4585946\ttotal: 44.9s\tremaining: 5.36s\n",
      "134:\tlearn: 0.4574916\ttotal: 45.2s\tremaining: 5.02s\n",
      "135:\tlearn: 0.4565267\ttotal: 45.5s\tremaining: 4.68s\n",
      "136:\tlearn: 0.4555899\ttotal: 45.8s\tremaining: 4.35s\n",
      "137:\tlearn: 0.4542459\ttotal: 46.1s\tremaining: 4.01s\n",
      "138:\tlearn: 0.4531753\ttotal: 46.5s\tremaining: 3.68s\n",
      "139:\tlearn: 0.4522627\ttotal: 46.8s\tremaining: 3.34s\n",
      "140:\tlearn: 0.4514267\ttotal: 47.2s\tremaining: 3.01s\n",
      "141:\tlearn: 0.4506964\ttotal: 47.5s\tremaining: 2.68s\n",
      "142:\tlearn: 0.4496349\ttotal: 47.9s\tremaining: 2.34s\n",
      "143:\tlearn: 0.4486628\ttotal: 48.2s\tremaining: 2.01s\n",
      "144:\tlearn: 0.4477112\ttotal: 48.5s\tremaining: 1.67s\n",
      "145:\tlearn: 0.4466408\ttotal: 48.8s\tremaining: 1.34s\n",
      "146:\tlearn: 0.4457222\ttotal: 49.1s\tremaining: 1s\n",
      "147:\tlearn: 0.4448453\ttotal: 49.5s\tremaining: 668ms\n",
      "148:\tlearn: 0.4439701\ttotal: 49.8s\tremaining: 334ms\n",
      "149:\tlearn: 0.4430024\ttotal: 50.1s\tremaining: 0us\n"
     ]
    },
    {
     "data": {
      "text/plain": [
       "<catboost.core.CatBoostClassifier at 0x25e66326a90>"
      ]
     },
     "execution_count": 100,
     "metadata": {},
     "output_type": "execute_result"
    }
   ],
   "source": [
    "# from catboost import CatBoostClassifier\n",
    "# cb=CatBoostClassifier(iterations=150,learning_rate= 0.20)\n",
    "# cb.fit(x_train_tfidf,y_train)"
   ]
  },
  {
   "cell_type": "code",
   "execution_count": 101,
   "metadata": {},
   "outputs": [
    {
     "data": {
      "text/plain": [
       "0.7923038973852985"
      ]
     },
     "execution_count": 101,
     "metadata": {},
     "output_type": "execute_result"
    }
   ],
   "source": [
    "# cb.score(x_test_tfidf,y_test)"
   ]
  },
  {
   "cell_type": "markdown",
   "metadata": {},
   "source": [
    "### Word2Vec+BiLSTM"
   ]
  },
  {
   "cell_type": "code",
   "execution_count": null,
   "metadata": {},
   "outputs": [],
   "source": [
    "# import numpy as np\n",
    "# from gensim.models import Word2Vec\n",
    "# from tensorflow.keras.preprocessing.text import Tokenizer\n",
    "# from tensorflow.keras.preprocessing.sequence import pad_sequences\n",
    "# from tensorflow.keras import Sequential\n",
    "# from tensorflow.keras.layers import Bidirectional, GlobalMaxPool1D, Dense, LSTM, Conv1D, Embedding"
   ]
  },
  {
   "cell_type": "code",
   "execution_count": 10,
   "metadata": {},
   "outputs": [
    {
     "name": "stdout",
     "output_type": "stream",
     "text": [
      "[[0]\n",
      " [0]\n",
      " [0]\n",
      " ...\n",
      " [1]\n",
      " [0]\n",
      " [0]]\n",
      "[['lkêcê', 'yoúc', 'cêêö', 'y#êjl', 'lw', 'mówám', 'Újám', 'j', 'Úêê#', 'ütlk', 'Úol', 'lkêú', 'z#ê', 'ctöé8ú', 'ówl', 'xoóóú', 'éê#xw#öê#c', '.'], ['6êcétlê', 'jolêot8', 'zc', 'éê#xw#öjóáê', ',', 'tl', 'zc', 'j', '#jlkê#', '8tcl8êcc', 'jöÚ8ê', '6wüó', 'lkê', 'öt668ê', 'wx', 'lkê', '#wj6', ',', 'ükê#ê', 'lkê', 'lkêöjltá', 't#wótêc', 'j#ê', 'lww', 'wÚ2twoc', 'jó6', 'lkê', 'cê+oj8', 'éw8tltác', 'lww', 'cöoy', '.'], ['tx', 'lktc', 'kw8t6jú', 'öw2tê', 'tc', 'coééwcê6', 'lw', 'Úê', 'j', 'ytxl', ',', 'cwöêÚw6ú', 'oóü#jééê6', 'tl', 'êj#8ú', ',', 'lwwm', 'wol', 'j88', 'lkê', 'yww6', 'cloxx', ',', 'jó6', '8êxl', 'Úêktó6', 'lkê', 'á#jé', '(', '8tlê#j88ú', ')', '.']]\n"
     ]
    }
   ],
   "source": [
    "# train_label = np.array([[data[0]] for data in train_split])\n",
    "# print(train_label)\n",
    "# train_data = [data[1] for data in train_split]\n",
    "# print(train_data[:3])"
   ]
  },
  {
   "cell_type": "code",
   "execution_count": 18,
   "metadata": {},
   "outputs": [
    {
     "name": "stdout",
     "output_type": "stream",
     "text": [
      "[['j', '6t6jáltá', 'jó6', '6o88', '6wáoöêólj#ú', 'y8w#txútóy', 'cwxlüj#ê', 'jój#ákú', '.'], ['ówlktóy', 'cltámc', ',', '#êj88ú', ',', 'ê+áêél', 'j', '8tóyê#tóy', 'á#êêétóêcc', 'wóê', 'xêê8c', 'x#wö', 'Úêtóy', '6#jyyê6', 'lk#woyk', 'j', 'cj6', ',', 'cw#6t6', 'oót2ê#cê', 'wx', 'yoóc', ',', '6#oyc', ',', 'j2j#táê', 'jó6', '6jöjyê6', '6#êjöc', '.'], ['öo#ékú', 'jó6', 'üt8cwó', 'jáloj88ú', 'öjmê', 'j', 'é#êllú', 'yww6', 'lêjö', '<<<', 'Úol', 'lkê', 'é#wvêál', 'co##woó6tóy', 'lkêö', 'tc', '6tcl#êcctóy8ú', '#wlê', '.']]\n"
     ]
    }
   ],
   "source": [
    "# dev_label = [[data[0]] for data in dev_split]\n",
    "# dev_data = [data[1] for data in dev_split]\n",
    "# test_data = [data[0] for data in test_split]\n",
    "# print(test_data[:3])"
   ]
  },
  {
   "cell_type": "code",
   "execution_count": 12,
   "metadata": {},
   "outputs": [
    {
     "name": "stdout",
     "output_type": "stream",
     "text": [
      "59\n"
     ]
    }
   ],
   "source": [
    "# print(max([len(x[0]) for x in test_split]))"
   ]
  },
  {
   "cell_type": "code",
   "execution_count": 14,
   "metadata": {},
   "outputs": [
    {
     "name": "stdout",
     "output_type": "stream",
     "text": [
      "Vocabulary Length: 6080\n"
     ]
    }
   ],
   "source": [
    "# Embedding_dimensions = 100\n",
    "# word2vec_model = Word2Vec(train_data,\n",
    "#                  size=Embedding_dimensions,\n",
    "#                  workers=8,\n",
    "#                  min_count=5)\n",
    "# print(\"Vocabulary Length:\", len(word2vec_model.wv.index2word))"
   ]
  },
  {
   "cell_type": "code",
   "execution_count": 15,
   "metadata": {},
   "outputs": [],
   "source": [
    "# Defining the model input length.\n",
    "# input_length = 65"
   ]
  },
  {
   "cell_type": "code",
   "execution_count": 16,
   "metadata": {},
   "outputs": [
    {
     "name": "stdout",
     "output_type": "stream",
     "text": [
      "Tokenizer vocab length: 7000\n"
     ]
    }
   ],
   "source": [
    "# vocab_length = 7000\n",
    "\n",
    "# tokenizer = Tokenizer(filters=\"\", lower=False)\n",
    "# tokenizer.fit_on_texts(train_data+dev_data)\n",
    "# tokenizer.num_words = vocab_length\n",
    "# print(\"Tokenizer vocab length:\", vocab_length)"
   ]
  },
  {
   "cell_type": "code",
   "execution_count": 20,
   "metadata": {},
   "outputs": [
    {
     "name": "stdout",
     "output_type": "stream",
     "text": [
      "X_train.shape: (16220, 65)\n",
      "X_dev.shape : (2027, 65)\n",
      "X_test.shape : (2028, 65)\n"
     ]
    }
   ],
   "source": [
    "# X_train = pad_sequences(tokenizer.texts_to_sequences(train_data), maxlen=input_length)\n",
    "# X_dev  = pad_sequences(tokenizer.texts_to_sequences(dev_data) , maxlen=input_length)\n",
    "# X_test = pad_sequences(tokenizer.texts_to_sequences(test_data) , maxlen=input_length)\n",
    "# print(\"X_train.shape:\", X_train.shape)\n",
    "# print(\"X_dev.shape :\", X_dev.shape)\n",
    "# print(\"X_test.shape :\", X_test.shape)"
   ]
  },
  {
   "cell_type": "code",
   "execution_count": 21,
   "metadata": {},
   "outputs": [
    {
     "name": "stdout",
     "output_type": "stream",
     "text": [
      "Embedding Matrix Shape: (7000, 100)\n"
     ]
    }
   ],
   "source": [
    "# embedding_matrix = np.zeros((vocab_length, Embedding_dimensions))\n",
    "\n",
    "# for word, token in tokenizer.word_index.items():\n",
    "#     if word2vec_model.wv.__contains__(word):\n",
    "#         embedding_matrix[token] = word2vec_model.wv.__getitem__(word)\n",
    "\n",
    "# print(\"Embedding Matrix Shape:\", embedding_matrix.shape)"
   ]
  },
  {
   "cell_type": "code",
   "execution_count": 23,
   "metadata": {},
   "outputs": [],
   "source": [
    "# def getModel():\n",
    "#     embedding_layer = Embedding(input_dim = vocab_length,\n",
    "#                                 output_dim = Embedding_dimensions,\n",
    "#                                 weights=[embedding_matrix],\n",
    "#                                 input_length=input_length,\n",
    "#                                 trainable=False)\n",
    "\n",
    "#     model = Sequential([\n",
    "#         embedding_layer,\n",
    "#         Bidirectional(LSTM(100, dropout=0.3, return_sequences=True)),\n",
    "#         Bidirectional(LSTM(100, dropout=0.3, return_sequences=True)),\n",
    "#         Conv1D(100, 5, activation='relu'),\n",
    "#         GlobalMaxPool1D(),\n",
    "#         Dense(16, activation='relu'),\n",
    "#         Dense(1, activation='sigmoid'),\n",
    "#     ],\n",
    "#     name=\"Classify_Model\")\n",
    "#     return model"
   ]
  },
  {
   "cell_type": "code",
   "execution_count": 24,
   "metadata": {},
   "outputs": [
    {
     "name": "stdout",
     "output_type": "stream",
     "text": [
      "Model: \"Classify_Model\"\n",
      "_________________________________________________________________\n",
      " Layer (type)                Output Shape              Param #   \n",
      "=================================================================\n",
      " embedding (Embedding)       (None, 65, 100)           700000    \n",
      "                                                                 \n",
      " bidirectional (Bidirectiona  (None, 65, 200)          160800    \n",
      " l)                                                              \n",
      "                                                                 \n",
      " bidirectional_1 (Bidirectio  (None, 65, 200)          240800    \n",
      " nal)                                                            \n",
      "                                                                 \n",
      " conv1d (Conv1D)             (None, 61, 100)           100100    \n",
      "                                                                 \n",
      " global_max_pooling1d (Globa  (None, 100)              0         \n",
      " lMaxPooling1D)                                                  \n",
      "                                                                 \n",
      " dense (Dense)               (None, 16)                1616      \n",
      "                                                                 \n",
      " dense_1 (Dense)             (None, 1)                 17        \n",
      "                                                                 \n",
      "=================================================================\n",
      "Total params: 1,203,333\n",
      "Trainable params: 503,333\n",
      "Non-trainable params: 700,000\n",
      "_________________________________________________________________\n"
     ]
    }
   ],
   "source": [
    "# training_model = getModel()\n",
    "# training_model.summary()"
   ]
  },
  {
   "cell_type": "code",
   "execution_count": 25,
   "metadata": {},
   "outputs": [],
   "source": [
    "# from tensorflow.keras.callbacks import ReduceLROnPlateau, EarlyStopping\n",
    "\n",
    "# callbacks = [ReduceLROnPlateau(monitor='val_loss', patience=5, cooldown=0),EarlyStopping(monitor='val_accuracy', min_delta=1e-4, patience=5)]"
   ]
  },
  {
   "cell_type": "code",
   "execution_count": 26,
   "metadata": {},
   "outputs": [],
   "source": [
    "# training_model.compile(loss='binary_crossentropy', optimizer='adam', metrics=['accuracy'])"
   ]
  },
  {
   "cell_type": "code",
   "execution_count": 27,
   "metadata": {},
   "outputs": [
    {
     "name": "stdout",
     "output_type": "stream",
     "text": [
      "Epoch 1/30\n",
      "15/15 [==============================] - 90s 6s/step - loss: 0.6838 - accuracy: 0.5459 - val_loss: 0.6774 - val_accuracy: 0.5851 - lr: 0.0010\n",
      "Epoch 2/30\n",
      "15/15 [==============================] - 83s 6s/step - loss: 0.6747 - accuracy: 0.5833 - val_loss: 0.6657 - val_accuracy: 0.6005 - lr: 0.0010\n",
      "Epoch 3/30\n",
      "15/15 [==============================] - 85s 6s/step - loss: 0.6697 - accuracy: 0.5919 - val_loss: 0.6637 - val_accuracy: 0.6048 - lr: 0.0010\n",
      "Epoch 4/30\n",
      "15/15 [==============================] - 87s 6s/step - loss: 0.6676 - accuracy: 0.5960 - val_loss: 0.6615 - val_accuracy: 0.5943 - lr: 0.0010\n",
      "Epoch 5/30\n",
      "15/15 [==============================] - 88s 6s/step - loss: 0.6663 - accuracy: 0.5982 - val_loss: 0.6614 - val_accuracy: 0.6097 - lr: 0.0010\n",
      "Epoch 6/30\n",
      "15/15 [==============================] - 90s 6s/step - loss: 0.6614 - accuracy: 0.6021 - val_loss: 0.6543 - val_accuracy: 0.6141 - lr: 0.0010\n",
      "Epoch 7/30\n",
      "15/15 [==============================] - 92s 6s/step - loss: 0.6590 - accuracy: 0.6046 - val_loss: 0.6563 - val_accuracy: 0.6104 - lr: 0.0010\n",
      "Epoch 8/30\n",
      "15/15 [==============================] - 93s 6s/step - loss: 0.6561 - accuracy: 0.6093 - val_loss: 0.6519 - val_accuracy: 0.6165 - lr: 0.0010\n",
      "Epoch 9/30\n",
      "15/15 [==============================] - 95s 6s/step - loss: 0.6560 - accuracy: 0.6073 - val_loss: 0.6492 - val_accuracy: 0.6208 - lr: 0.0010\n",
      "Epoch 10/30\n",
      "15/15 [==============================] - 95s 6s/step - loss: 0.6503 - accuracy: 0.6191 - val_loss: 0.6448 - val_accuracy: 0.6147 - lr: 0.0010\n",
      "Epoch 11/30\n",
      "15/15 [==============================] - 95s 6s/step - loss: 0.6514 - accuracy: 0.6145 - val_loss: 0.6434 - val_accuracy: 0.6215 - lr: 0.0010\n",
      "Epoch 12/30\n",
      "15/15 [==============================] - 94s 6s/step - loss: 0.6466 - accuracy: 0.6204 - val_loss: 0.6513 - val_accuracy: 0.6159 - lr: 0.0010\n",
      "Epoch 13/30\n",
      "15/15 [==============================] - 95s 6s/step - loss: 0.6470 - accuracy: 0.6161 - val_loss: 0.6466 - val_accuracy: 0.6221 - lr: 0.0010\n",
      "Epoch 14/30\n",
      "15/15 [==============================] - 94s 6s/step - loss: 0.6424 - accuracy: 0.6239 - val_loss: 0.6638 - val_accuracy: 0.6017 - lr: 0.0010\n",
      "Epoch 15/30\n",
      "15/15 [==============================] - 94s 6s/step - loss: 0.6472 - accuracy: 0.6191 - val_loss: 0.6525 - val_accuracy: 0.5968 - lr: 0.0010\n",
      "Epoch 16/30\n",
      "15/15 [==============================] - 95s 6s/step - loss: 0.6417 - accuracy: 0.6250 - val_loss: 0.6402 - val_accuracy: 0.6301 - lr: 0.0010\n",
      "Epoch 17/30\n",
      "15/15 [==============================] - 95s 6s/step - loss: 0.6349 - accuracy: 0.6336 - val_loss: 0.6477 - val_accuracy: 0.6159 - lr: 0.0010\n",
      "Epoch 18/30\n",
      "15/15 [==============================] - 96s 6s/step - loss: 0.6344 - accuracy: 0.6361 - val_loss: 0.6464 - val_accuracy: 0.6239 - lr: 0.0010\n",
      "Epoch 19/30\n",
      "15/15 [==============================] - 100s 7s/step - loss: 0.6323 - accuracy: 0.6387 - val_loss: 0.6395 - val_accuracy: 0.6252 - lr: 0.0010\n",
      "Epoch 20/30\n",
      "15/15 [==============================] - 97s 6s/step - loss: 0.6311 - accuracy: 0.6422 - val_loss: 0.6363 - val_accuracy: 0.6393 - lr: 0.0010\n",
      "Epoch 21/30\n",
      "15/15 [==============================] - 96s 6s/step - loss: 0.6268 - accuracy: 0.6419 - val_loss: 0.6405 - val_accuracy: 0.6363 - lr: 0.0010\n",
      "Epoch 22/30\n",
      "15/15 [==============================] - 96s 6s/step - loss: 0.6280 - accuracy: 0.6369 - val_loss: 0.6349 - val_accuracy: 0.6307 - lr: 0.0010\n",
      "Epoch 23/30\n",
      "15/15 [==============================] - 97s 6s/step - loss: 0.6229 - accuracy: 0.6452 - val_loss: 0.6437 - val_accuracy: 0.6282 - lr: 0.0010\n",
      "Epoch 24/30\n",
      "15/15 [==============================] - 97s 6s/step - loss: 0.6212 - accuracy: 0.6476 - val_loss: 0.6342 - val_accuracy: 0.6208 - lr: 0.0010\n",
      "Epoch 25/30\n",
      "15/15 [==============================] - 98s 6s/step - loss: 0.6208 - accuracy: 0.6512 - val_loss: 0.6327 - val_accuracy: 0.6356 - lr: 0.0010\n"
     ]
    }
   ],
   "source": [
    "# history = training_model.fit(\n",
    "#     X_train, train_label,\n",
    "#     batch_size=1024,\n",
    "#     epochs=30,\n",
    "#     validation_split=0.1,\n",
    "#     callbacks=callbacks,\n",
    "#     verbose=1,\n",
    "# )"
   ]
  },
  {
   "cell_type": "code",
   "execution_count": 28,
   "metadata": {},
   "outputs": [
    {
     "data": {
      "image/png": "[encoded data removed]",
      "text/plain": [
       "<Figure size 432x288 with 1 Axes>"
      ]
     },
     "metadata": {
      "needs_background": "light"
     },
     "output_type": "display_data"
    },
    {
     "data": {
      "image/png": "[encoded data removed]",
      "text/plain": [
       "<Figure size 432x288 with 1 Axes>"
      ]
     },
     "metadata": {
      "needs_background": "light"
     },
     "output_type": "display_data"
    }
   ],
   "source": [
    "# import matplotlib.pyplot as plt\n",
    "\n",
    "# acc,  val_acc  = history.history['accuracy'], history.history['val_accuracy']\n",
    "# loss, val_loss = history.history['loss'], history.history['val_loss']\n",
    "# epochs = range(len(acc))\n",
    "\n",
    "# plt.plot(epochs, acc, 'b', label='Training acc')\n",
    "# plt.plot(epochs, val_acc, 'r', label='Validation acc')\n",
    "# plt.title('Training and validation accuracy')\n",
    "# plt.legend()\n",
    "\n",
    "# plt.figure()\n",
    "\n",
    "# plt.plot(epochs, loss, 'b', label='Training loss')\n",
    "# plt.plot(epochs, val_loss, 'r', label='Validation loss')\n",
    "# plt.title('Training and validation loss')\n",
    "# plt.legend()\n",
    "\n",
    "# plt.show()"
   ]
  },
  {
   "cell_type": "markdown",
   "metadata": {},
   "source": [
    "### Output Prediction Result File"
   ]
  },
  {
   "cell_type": "markdown",
   "metadata": {},
   "source": [
    "You will need to submit a prediction result file. It should have 2028 lines, every line should be either 0 or 1, which is your model's prediction on the respective test set instance."
   ]
  },
  {
   "cell_type": "code",
   "execution_count": 33,
   "metadata": {},
   "outputs": [
    {
     "name": "stdout",
     "output_type": "stream",
     "text": [
      "2028\n"
     ]
    }
   ],
   "source": [
    "# suppose you had your model's predictions on the 2028 test cases read from test_enc_unlabeled.tsv, and \n",
    "#those results are in the list called 'results'\n",
    "print(len(results))\n",
    "assert (len(results) == 2028)"
   ]
  },
  {
   "cell_type": "code",
   "execution_count": 34,
   "metadata": {},
   "outputs": [],
   "source": [
    "# make sure the results are not float numbers, but intergers 0 and 1\n",
    "results = [int(x) for x in results]"
   ]
  },
  {
   "cell_type": "code",
   "execution_count": 35,
   "metadata": {},
   "outputs": [],
   "source": [
    "# write your prediction results to 'upload_predictions.txt' and upload that later\n",
    "with open('upload_predictions.txt', 'w', encoding = 'utf-8') as fp:\n",
    "    for x in results:\n",
    "        fp.write(str(x) + '\\n')"
   ]
  },
  {
   "cell_type": "code",
   "execution_count": null,
   "metadata": {},
   "outputs": [],
   "source": []
  }
 ],
 "metadata": {
  "kernelspec": {
   "display_name": "Python 3",
   "language": "python",
   "name": "python3"
  },
  "language_info": {
   "codemirror_mode": {
    "name": "ipython",
    "version": 3
   },
   "file_extension": ".py",
   "mimetype": "text/x-python",
   "name": "python",
   "nbconvert_exporter": "python",
   "pygments_lexer": "ipython3",
   "version": "3.8.8"
  }
 },
 "nbformat": 4,
 "nbformat_minor": 4
}
